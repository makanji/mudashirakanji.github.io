{
 "cells": [
  {
   "cell_type": "code",
   "execution_count": 1,
   "id": "e4d1c743",
   "metadata": {
    "run_control": {
     "marked": true
    }
   },
   "outputs": [],
   "source": [
    "#lopading up libraries\n",
    "import matplotlib.pyplot as plt\n",
    "from matplotlib.pyplot import cm\n",
    "import time\n",
    "import timeit\n",
    "import copy\n",
    "import random\n",
    "import sys\n",
    "import math"
   ]
  },
  {
   "cell_type": "code",
   "execution_count": 2,
   "id": "bcbd3376",
   "metadata": {},
   "outputs": [],
   "source": [
    "import pickle\n",
    "import csv\n",
    "import numpy as np\n",
    "import pandas as pd\n",
    "import cv2\n",
    "import os"
   ]
  },
  {
   "cell_type": "code",
   "execution_count": 3,
   "id": "4b930695",
   "metadata": {},
   "outputs": [],
   "source": [
    "from joblib import Parallel,delayed\n",
    "from timeit import default_timer as timer\n",
    "import warnings\n",
    "# Cytoscape\n",
    "import IPython"
   ]
  },
  {
   "cell_type": "code",
   "execution_count": 4,
   "id": "7d4e7969",
   "metadata": {},
   "outputs": [
    {
     "data": {
      "text/plain": [
       "<_csv.reader at 0x20f87bc45e0>"
      ]
     },
     "execution_count": 4,
     "metadata": {},
     "output_type": "execute_result"
    }
   ],
   "source": [
    "#importation of anotation\n",
    "annotation_file_1 = 'labels_my-project-name_2022-02-04-12-56-14.csv'\n",
    "file = open(annotation_file_1)\n",
    "csv_reader = csv.reader(file)\n",
    "csv_reader"
   ]
  },
  {
   "cell_type": "code",
   "execution_count": 5,
   "id": "8aeac8e8",
   "metadata": {},
   "outputs": [
    {
     "data": {
      "text/plain": [
       "['Chicken', '1304', '817', 'Cam0_Train5_000264.jpg', '2592', '1944']"
      ]
     },
     "execution_count": 5,
     "metadata": {},
     "output_type": "execute_result"
    }
   ],
   "source": [
    "#making iteratiuon along the CSV reader\n",
    "header = []\n",
    "header = next(csv_reader)\n",
    "header"
   ]
  },
  {
   "cell_type": "code",
   "execution_count": 6,
   "id": "2fc648e5",
   "metadata": {},
   "outputs": [],
   "source": [
    "#making list iut for the annotation from the CV filoe\n",
    "annotations = []\n",
    "for row in csv_reader:\n",
    "    annotations.append(row)"
   ]
  },
  {
   "cell_type": "code",
   "execution_count": 7,
   "id": "2b295acd",
   "metadata": {},
   "outputs": [],
   "source": [
    "#importing video frames folder\n",
    "frames_folder = 'C:/Users/iTTaste/MUDASHIR/Image Analysis/Annotation_1/'\n",
    "frames_names = os.listdir(frames_folder)"
   ]
  },
  {
   "cell_type": "code",
   "execution_count": 8,
   "id": "1769c32d",
   "metadata": {},
   "outputs": [
    {
     "data": {
      "text/plain": [
       "['Cam0_Train5_000264.jpg',\n",
       " 'Cam0_Train5_001375.jpg',\n",
       " 'Cam0_Train5_001958.jpg',\n",
       " 'Cam0_Train5_002827.jpg',\n",
       " 'Cam0_Train5_002860.jpg',\n",
       " 'Cam0_Train5_002981.jpg',\n",
       " 'Cam0_Train5_003212.jpg',\n",
       " 'Cam0_Train5_003751.jpg',\n",
       " 'Cam0_Train5_003828.jpg',\n",
       " 'Cam0_Train5_006336.jpg',\n",
       " 'Cam0_Train5_007117.jpg',\n",
       " 'Cam0_Train5_007238.jpg',\n",
       " 'Cam0_Train5_007623.jpg',\n",
       " 'Cam0_Train5_009746.jpg',\n",
       " 'Cam0_Train5_010010.jpg',\n",
       " 'Cam0_Train5_010912.jpg',\n",
       " 'Cam0_Train5_011055.jpg',\n",
       " 'Cam0_Train5_011187.jpg',\n",
       " 'Cam0_Train5_011484.jpg',\n",
       " 'Cam0_Train5_011506.jpg',\n",
       " 'Cam0_Train5_011814.jpg',\n",
       " 'Cam0_Train5_012056.jpg',\n",
       " 'Cam0_Train5_012639.jpg',\n",
       " 'Cam0_Train5_012727.jpg',\n",
       " 'Cam0_Train5_013431.jpg',\n",
       " 'Cam0_Train5_014718.jpg',\n",
       " 'Cam0_Train5_014784.jpg',\n",
       " 'Cam0_Train5_015092.jpg',\n",
       " 'Cam0_Train5_015312.jpg',\n",
       " 'Cam0_Train5_015510.jpg',\n",
       " 'Cam0_Train5_016104.jpg',\n",
       " 'Cam0_Train5_016225.jpg',\n",
       " 'Cam0_Train5_016797.jpg',\n",
       " 'Cam0_Train5_017512.jpg',\n",
       " 'Cam0_Train5_017644.jpg',\n",
       " 'Cam0_Train5_017721.jpg',\n",
       " 'Cam0_Train5_017809.jpg',\n",
       " 'Cam0_Train5_018249.jpg',\n",
       " 'Cam0_Train5_018975.jpg',\n",
       " 'Cam0_Train5_019767.jpg',\n",
       " 'Cam0_Train5_021868.jpg',\n",
       " 'Cam0_Train5_022011.jpg',\n",
       " 'Cam0_Train5_022792.jpg',\n",
       " 'Cam0_Train5_023694.jpg',\n",
       " 'Cam0_Train5_023914.jpg',\n",
       " 'Cam0_Train5_024068.jpg',\n",
       " 'Cam0_Train5_025322.jpg',\n",
       " 'Cam0_Train5_025465.jpg',\n",
       " 'Cam0_Train5_025949.jpg',\n",
       " 'Cam0_Train5_026081.jpg']"
      ]
     },
     "execution_count": 8,
     "metadata": {},
     "output_type": "execute_result"
    }
   ],
   "source": [
    "os.listdir(frames_folder)"
   ]
  },
  {
   "cell_type": "code",
   "execution_count": 9,
   "id": "46c0dd6f",
   "metadata": {},
   "outputs": [
    {
     "name": "stdout",
     "output_type": "stream",
     "text": [
      "Frame with shape:(1944, 2592) imported.\n",
      "Frame with shape:(1944, 2592) imported.\n",
      "Frame with shape:(1944, 2592) imported.\n",
      "Frame with shape:(1944, 2592) imported.\n",
      "Frame with shape:(1944, 2592) imported.\n",
      "Frame with shape:(1944, 2592) imported.\n",
      "Frame with shape:(1944, 2592) imported.\n",
      "Frame with shape:(1944, 2592) imported.\n",
      "Frame with shape:(1944, 2592) imported.\n",
      "Frame with shape:(1944, 2592) imported.\n",
      "Frame with shape:(1944, 2592) imported.\n",
      "Frame with shape:(1944, 2592) imported.\n",
      "Frame with shape:(1944, 2592) imported.\n",
      "Frame with shape:(1944, 2592) imported.\n",
      "Frame with shape:(1944, 2592) imported.\n",
      "Frame with shape:(1944, 2592) imported.\n",
      "Frame with shape:(1944, 2592) imported.\n",
      "Frame with shape:(1944, 2592) imported.\n",
      "Frame with shape:(1944, 2592) imported.\n",
      "Frame with shape:(1944, 2592) imported.\n",
      "Frame with shape:(1944, 2592) imported.\n",
      "Frame with shape:(1944, 2592) imported.\n",
      "Frame with shape:(1944, 2592) imported.\n",
      "Frame with shape:(1944, 2592) imported.\n",
      "Frame with shape:(1944, 2592) imported.\n",
      "Frame with shape:(1944, 2592) imported.\n",
      "Frame with shape:(1944, 2592) imported.\n",
      "Frame with shape:(1944, 2592) imported.\n",
      "Frame with shape:(1944, 2592) imported.\n",
      "Frame with shape:(1944, 2592) imported.\n",
      "Frame with shape:(1944, 2592) imported.\n",
      "Frame with shape:(1944, 2592) imported.\n",
      "Frame with shape:(1944, 2592) imported.\n",
      "Frame with shape:(1944, 2592) imported.\n",
      "Frame with shape:(1944, 2592) imported.\n",
      "Frame with shape:(1944, 2592) imported.\n",
      "Frame with shape:(1944, 2592) imported.\n",
      "Frame with shape:(1944, 2592) imported.\n",
      "Frame with shape:(1944, 2592) imported.\n",
      "Frame with shape:(1944, 2592) imported.\n",
      "Frame with shape:(1944, 2592) imported.\n",
      "Frame with shape:(1944, 2592) imported.\n",
      "Frame with shape:(1944, 2592) imported.\n",
      "Frame with shape:(1944, 2592) imported.\n",
      "Frame with shape:(1944, 2592) imported.\n",
      "Frame with shape:(1944, 2592) imported.\n",
      "Frame with shape:(1944, 2592) imported.\n",
      "Frame with shape:(1944, 2592) imported.\n",
      "Frame with shape:(1944, 2592) imported.\n",
      "Frame with shape:(1944, 2592) imported.\n"
     ]
    }
   ],
   "source": [
    "RawFrames = []\n",
    "for frame_nr in range(len(frames_names)):\n",
    "    #reading in frames using cv2 library\n",
    "    imported_frame = cv2.imread(frames_folder + frames_names[frame_nr], cv2.IMREAD_GRAYSCALE)\n",
    "\n",
    "    print(\"Frame with shape:\" + str(imported_frame.shape) + \" imported.\")\n",
    "    RawFrames.append(imported_frame)"
   ]
  },
  {
   "cell_type": "code",
   "execution_count": 10,
   "id": "af654fe0",
   "metadata": {},
   "outputs": [],
   "source": [
    "# visualising the imported frames \n",
    "random_number = random.randint(0,len(RawFrames))\n",
    "cv2.namedWindow('image', cv2.WINDOW_NORMAL )\n",
    "cv2.resizeWindow(\"image\", 1600, 900)\n",
    "\n",
    "image = RawFrames[random_number]\n",
    "\n",
    "cv2.imshow('image', image)\n",
    "cv2.waitKey(0)\n",
    "cv2.destroyAllWindows()\n"
   ]
  },
  {
   "cell_type": "code",
   "execution_count": 11,
   "id": "4c63ab14",
   "metadata": {},
   "outputs": [],
   "source": [
    "# Highlight the annotations in the video frames\n",
    "#image rescalling\n",
    "# Define the target dimension\n",
    "target_dim = (640,400)\n",
    "\n",
    "# extract the unique image names from annotations\n",
    "image_names = []\n",
    "for entry in range(len(annotations)):\n",
    "        current_name = annotations[entry][3]\n",
    "\n",
    "        if entry == 0:\n",
    "                image_names.append(current_name)\n",
    " #this used to cross check if the last item on the iteration is the same as last image_name list\n",
    "        if image_names[-1] != current_name:\n",
    "                image_names.append(current_name)\n",
    "        else:\n",
    "                continue\n"
   ]
  },
  {
   "cell_type": "code",
   "execution_count": 19,
   "id": "50538a46",
   "metadata": {},
   "outputs": [
    {
     "data": {
      "text/plain": [
       "'Cam0_Train5_026081.jpg'"
      ]
     },
     "execution_count": 19,
     "metadata": {},
     "output_type": "execute_result"
    }
   ],
   "source": [
    "current_name\n"
   ]
  },
  {
   "cell_type": "code",
   "execution_count": 20,
   "id": "1b74cf6a",
   "metadata": {},
   "outputs": [
    {
     "data": {
      "text/plain": [
       "['Cam0_Train5_000264.jpg',\n",
       " 'Cam0_Train5_001375.jpg',\n",
       " 'Cam0_Train5_001958.jpg',\n",
       " 'Cam0_Train5_002827.jpg',\n",
       " 'Cam0_Train5_002860.jpg',\n",
       " 'Cam0_Train5_002981.jpg',\n",
       " 'Cam0_Train5_003212.jpg',\n",
       " 'Cam0_Train5_003751.jpg',\n",
       " 'Cam0_Train5_003828.jpg',\n",
       " 'Cam0_Train5_006336.jpg',\n",
       " 'Cam0_Train5_007117.jpg',\n",
       " 'Cam0_Train5_007238.jpg',\n",
       " 'Cam0_Train5_007623.jpg',\n",
       " 'Cam0_Train5_009746.jpg',\n",
       " 'Cam0_Train5_010010.jpg',\n",
       " 'Cam0_Train5_010912.jpg',\n",
       " 'Cam0_Train5_011055.jpg',\n",
       " 'Cam0_Train5_011187.jpg',\n",
       " 'Cam0_Train5_011484.jpg',\n",
       " 'Cam0_Train5_011506.jpg',\n",
       " 'Cam0_Train5_011814.jpg',\n",
       " 'Cam0_Train5_012056.jpg',\n",
       " 'Cam0_Train5_012639.jpg',\n",
       " 'Cam0_Train5_012727.jpg',\n",
       " 'Cam0_Train5_013431.jpg',\n",
       " 'Cam0_Train5_014718.jpg',\n",
       " 'Cam0_Train5_014784.jpg',\n",
       " 'Cam0_Train5_015092.jpg',\n",
       " 'Cam0_Train5_015312.jpg',\n",
       " 'Cam0_Train5_015510.jpg',\n",
       " 'Cam0_Train5_016104.jpg',\n",
       " 'Cam0_Train5_016225.jpg',\n",
       " 'Cam0_Train5_016797.jpg',\n",
       " 'Cam0_Train5_017512.jpg',\n",
       " 'Cam0_Train5_017644.jpg',\n",
       " 'Cam0_Train5_017721.jpg',\n",
       " 'Cam0_Train5_017809.jpg',\n",
       " 'Cam0_Train5_018249.jpg',\n",
       " 'Cam0_Train5_018975.jpg',\n",
       " 'Cam0_Train5_019767.jpg',\n",
       " 'Cam0_Train5_021868.jpg',\n",
       " 'Cam0_Train5_022011.jpg',\n",
       " 'Cam0_Train5_022792.jpg',\n",
       " 'Cam0_Train5_023694.jpg',\n",
       " 'Cam0_Train5_023914.jpg',\n",
       " 'Cam0_Train5_024068.jpg',\n",
       " 'Cam0_Train5_025322.jpg',\n",
       " 'Cam0_Train5_025465.jpg',\n",
       " 'Cam0_Train5_025949.jpg',\n",
       " 'Cam0_Train5_026081.jpg']"
      ]
     },
     "execution_count": 20,
     "metadata": {},
     "output_type": "execute_result"
    }
   ],
   "source": [
    "image_names"
   ]
  },
  {
   "cell_type": "code",
   "execution_count": 13,
   "id": "2f210780",
   "metadata": {},
   "outputs": [],
   "source": [
    "#creating a dataframe for the imported label \n",
    "# Use the names to read in the frame again and highlight the chicken\n",
    "annotations_df = pd.DataFrame(annotations)\n"
   ]
  },
  {
   "cell_type": "code",
   "execution_count": 29,
   "id": "e22d0c54",
   "metadata": {},
   "outputs": [
    {
     "name": "stdout",
     "output_type": "stream",
     "text": [
      "50\n",
      "97\n"
     ]
    },
    {
     "data": {
      "text/html": [
       "<div>\n",
       "<style scoped>\n",
       "    .dataframe tbody tr th:only-of-type {\n",
       "        vertical-align: middle;\n",
       "    }\n",
       "\n",
       "    .dataframe tbody tr th {\n",
       "        vertical-align: top;\n",
       "    }\n",
       "\n",
       "    .dataframe thead th {\n",
       "        text-align: right;\n",
       "    }\n",
       "</style>\n",
       "<table border=\"1\" class=\"dataframe\">\n",
       "  <thead>\n",
       "    <tr style=\"text-align: right;\">\n",
       "      <th></th>\n",
       "      <th>0</th>\n",
       "      <th>1</th>\n",
       "      <th>2</th>\n",
       "      <th>3</th>\n",
       "      <th>4</th>\n",
       "      <th>5</th>\n",
       "    </tr>\n",
       "  </thead>\n",
       "  <tbody>\n",
       "    <tr>\n",
       "      <th>4534</th>\n",
       "      <td>Chicken</td>\n",
       "      <td>1757</td>\n",
       "      <td>1502</td>\n",
       "      <td>Cam0_Train5_026081.jpg</td>\n",
       "      <td>2592</td>\n",
       "      <td>1944</td>\n",
       "    </tr>\n",
       "    <tr>\n",
       "      <th>4535</th>\n",
       "      <td>Chicken</td>\n",
       "      <td>1690</td>\n",
       "      <td>1429</td>\n",
       "      <td>Cam0_Train5_026081.jpg</td>\n",
       "      <td>2592</td>\n",
       "      <td>1944</td>\n",
       "    </tr>\n",
       "    <tr>\n",
       "      <th>4536</th>\n",
       "      <td>Chicken</td>\n",
       "      <td>1503</td>\n",
       "      <td>1322</td>\n",
       "      <td>Cam0_Train5_026081.jpg</td>\n",
       "      <td>2592</td>\n",
       "      <td>1944</td>\n",
       "    </tr>\n",
       "    <tr>\n",
       "      <th>4537</th>\n",
       "      <td>Chicken</td>\n",
       "      <td>1107</td>\n",
       "      <td>1315</td>\n",
       "      <td>Cam0_Train5_026081.jpg</td>\n",
       "      <td>2592</td>\n",
       "      <td>1944</td>\n",
       "    </tr>\n",
       "    <tr>\n",
       "      <th>4538</th>\n",
       "      <td>Chicken</td>\n",
       "      <td>1491</td>\n",
       "      <td>1717</td>\n",
       "      <td>Cam0_Train5_026081.jpg</td>\n",
       "      <td>2592</td>\n",
       "      <td>1944</td>\n",
       "    </tr>\n",
       "    <tr>\n",
       "      <th>...</th>\n",
       "      <td>...</td>\n",
       "      <td>...</td>\n",
       "      <td>...</td>\n",
       "      <td>...</td>\n",
       "      <td>...</td>\n",
       "      <td>...</td>\n",
       "    </tr>\n",
       "    <tr>\n",
       "      <th>4626</th>\n",
       "      <td>Chicken</td>\n",
       "      <td>361</td>\n",
       "      <td>1560</td>\n",
       "      <td>Cam0_Train5_026081.jpg</td>\n",
       "      <td>2592</td>\n",
       "      <td>1944</td>\n",
       "    </tr>\n",
       "    <tr>\n",
       "      <th>4627</th>\n",
       "      <td>Chicken</td>\n",
       "      <td>269</td>\n",
       "      <td>1585</td>\n",
       "      <td>Cam0_Train5_026081.jpg</td>\n",
       "      <td>2592</td>\n",
       "      <td>1944</td>\n",
       "    </tr>\n",
       "    <tr>\n",
       "      <th>4628</th>\n",
       "      <td>Chicken</td>\n",
       "      <td>195</td>\n",
       "      <td>1585</td>\n",
       "      <td>Cam0_Train5_026081.jpg</td>\n",
       "      <td>2592</td>\n",
       "      <td>1944</td>\n",
       "    </tr>\n",
       "    <tr>\n",
       "      <th>4629</th>\n",
       "      <td>Chicken</td>\n",
       "      <td>351</td>\n",
       "      <td>1685</td>\n",
       "      <td>Cam0_Train5_026081.jpg</td>\n",
       "      <td>2592</td>\n",
       "      <td>1944</td>\n",
       "    </tr>\n",
       "    <tr>\n",
       "      <th>4630</th>\n",
       "      <td>Chicken</td>\n",
       "      <td>280</td>\n",
       "      <td>1653</td>\n",
       "      <td>Cam0_Train5_026081.jpg</td>\n",
       "      <td>2592</td>\n",
       "      <td>1944</td>\n",
       "    </tr>\n",
       "  </tbody>\n",
       "</table>\n",
       "<p>97 rows × 6 columns</p>\n",
       "</div>"
      ],
      "text/plain": [
       "            0     1     2                       3     4     5\n",
       "4534  Chicken  1757  1502  Cam0_Train5_026081.jpg  2592  1944\n",
       "4535  Chicken  1690  1429  Cam0_Train5_026081.jpg  2592  1944\n",
       "4536  Chicken  1503  1322  Cam0_Train5_026081.jpg  2592  1944\n",
       "4537  Chicken  1107  1315  Cam0_Train5_026081.jpg  2592  1944\n",
       "4538  Chicken  1491  1717  Cam0_Train5_026081.jpg  2592  1944\n",
       "...       ...   ...   ...                     ...   ...   ...\n",
       "4626  Chicken   361  1560  Cam0_Train5_026081.jpg  2592  1944\n",
       "4627  Chicken   269  1585  Cam0_Train5_026081.jpg  2592  1944\n",
       "4628  Chicken   195  1585  Cam0_Train5_026081.jpg  2592  1944\n",
       "4629  Chicken   351  1685  Cam0_Train5_026081.jpg  2592  1944\n",
       "4630  Chicken   280  1653  Cam0_Train5_026081.jpg  2592  1944\n",
       "\n",
       "[97 rows x 6 columns]"
      ]
     },
     "execution_count": 29,
     "metadata": {},
     "output_type": "execute_result"
    }
   ],
   "source": [
    "print(len(image_names))\n",
    "print(len(df_small))\n",
    "current_frame\n",
    "df_small\n"
   ]
  },
  {
   "cell_type": "code",
   "execution_count": 14,
   "id": "ddcede75",
   "metadata": {},
   "outputs": [
    {
     "name": "stdout",
     "output_type": "stream",
     "text": [
      "0\n",
      "1\n",
      "2\n",
      "3\n",
      "4\n",
      "5\n",
      "6\n",
      "7\n",
      "8\n",
      "9\n",
      "10\n",
      "11\n",
      "12\n",
      "13\n",
      "14\n",
      "15\n",
      "16\n",
      "17\n",
      "18\n",
      "19\n",
      "20\n",
      "21\n",
      "22\n",
      "23\n",
      "24\n",
      "25\n",
      "26\n",
      "27\n",
      "28\n",
      "29\n",
      "30\n",
      "31\n",
      "32\n",
      "33\n",
      "34\n",
      "35\n",
      "36\n",
      "37\n",
      "38\n",
      "39\n",
      "40\n",
      "41\n",
      "42\n",
      "43\n",
      "44\n",
      "45\n",
      "46\n",
      "47\n",
      "48\n",
      "49\n"
     ]
    }
   ],
   "source": [
    "# Store the final frame in framesAnnot\n",
    "framesAnnot = []\n",
    "for img_nr in range(len(image_names)):\n",
    "        print(img_nr)\n",
    "\n",
    "        # get the first name\n",
    "        current_name = image_names[img_nr]\n",
    "\n",
    "        # read the raw frame\n",
    "        current_frame = cv2.imread(frames_folder + current_name, cv2.IMREAD_GRAYSCALE)\n",
    "\n",
    "        # rescale the pixel\n",
    "        current_frame = current_frame / 255 # maximum is 1; minimum is 0\n",
    "\n",
    "        # what is the scaling factor\n",
    "        y_scale = current_frame.shape[0] / target_dim[1]\n",
    "        x_scale = current_frame.shape[1] / target_dim[0]\n",
    "\n",
    "        # resize it to the target dimension\n",
    "        current_frame = cv2.resize(current_frame, target_dim)\n",
    "\n",
    "        # filter the dataframe by the name\n",
    "        #this collect all the annotation together by a single frame name\n",
    "        df_small = annotations_df[annotations_df[3].str.contains(current_name)]\n",
    "\n",
    "        # Select the coordinates for the first chicken in the current frame\n",
    "        for entry in range(len(df_small)):\n",
    "                x_coor_orig = int(df_small.iloc[entry, 1])\n",
    "                y_coor_orig = int(df_small.iloc[entry,2])\n",
    "\n",
    "                # rescale the coordinates\n",
    "                x_coor =  int(x_coor_orig / x_scale )\n",
    "                y_coor =  int(y_coor_orig / y_scale )\n",
    "\n",
    "                current_frame = cv2.circle(current_frame, (x_coor,y_coor) ,radius=3 ,color=255 ,thickness=cv2.FILLED)\n",
    "\n",
    "        # store the frame in the list: framesAnnot\n",
    "        framesAnnot.append(current_frame)\n",
    "\n",
    "        "
   ]
  },
  {
   "cell_type": "code",
   "execution_count": 18,
   "id": "bba983d4",
   "metadata": {},
   "outputs": [
    {
     "data": {
      "text/plain": [
       "<matplotlib.image.AxesImage at 0x20f9f7d3280>"
      ]
     },
     "execution_count": 18,
     "metadata": {},
     "output_type": "execute_result"
    },
    {
     "data": {
      "image/png": "[encoded data removed]",
      "text/plain": [
       "<Figure size 432x288 with 1 Axes>"
      ]
     },
     "metadata": {
      "needs_background": "light"
     },
     "output_type": "display_data"
    }
   ],
   "source": [
    "# for every uniquw image in the annotation table, we need a binary image\n",
    "\n",
    "black_img = np.zeros((target_dim[1], target_dim[0], 1)).astype(int)\n",
    "\n",
    "for entry in range(len(df_small)):\n",
    "        x_coor = df_small.iloc[entry,1]\n",
    "        y_coor = df_small.iloc[entry,2]\n",
    "\n",
    "        # rescale the coordinates\n",
    "        x_coor = int(int(x_coor) / x_scale)\n",
    "        y_coor = int(int(y_coor) / y_scale)\n",
    "\n",
    "        black_img = cv2.circle(black_img,(x_coor,y_coor),radius=3,color=1,thickness=cv2.FILLED)\n",
    "\n",
    "plt.imshow(black_img, cmap='gray')\n",
    "\n",
    "\n",
    "\n"
   ]
  },
  {
   "cell_type": "code",
   "execution_count": 41,
   "id": "87c69ab2",
   "metadata": {},
   "outputs": [
    {
     "name": "stdout",
     "output_type": "stream",
     "text": [
      "0\n",
      "1\n",
      "2\n",
      "3\n",
      "4\n",
      "5\n",
      "6\n",
      "7\n",
      "8\n",
      "9\n",
      "10\n",
      "11\n",
      "12\n",
      "13\n",
      "14\n",
      "15\n",
      "16\n",
      "17\n",
      "18\n",
      "19\n",
      "20\n",
      "21\n",
      "22\n",
      "23\n",
      "24\n",
      "25\n",
      "26\n",
      "27\n",
      "28\n",
      "29\n",
      "30\n",
      "31\n",
      "32\n",
      "33\n",
      "34\n",
      "35\n",
      "36\n",
      "37\n",
      "38\n",
      "39\n",
      "40\n",
      "41\n",
      "42\n",
      "43\n",
      "44\n",
      "45\n",
      "46\n",
      "47\n",
      "48\n",
      "49\n"
     ]
    },
    {
     "data": {
      "image/png": "[encoded data removed]",
      "text/plain": [
       "<Figure size 432x288 with 1 Axes>"
      ]
     },
     "metadata": {
      "needs_background": "light"
     },
     "output_type": "display_data"
    }
   ],
   "source": [
    "#looping through every tables for my binary images collections\n",
    "# for every uniquw image in the annotation table, we need a binary image\n",
    "\n",
    "# Store the final frame in framesAnnot\n",
    "black_img = np.zeros((target_dim[1], target_dim[0], 1)).astype(int)\n",
    "Black_list = []\n",
    "for img_nr in range(len(image_names)):\n",
    "        print(img_nr)\n",
    "\n",
    "        # get the first name\n",
    "        current_name = image_names[img_nr]\n",
    "\n",
    "        # filter the dataframe by the name\n",
    "        #this collect all the annotation together by a single frame name (current frame)\n",
    "        df_small = annotations_df[annotations_df[3].str.contains(current_name)]\n",
    "\n",
    "        # Select the coordinates for the first chicken in the current frame\n",
    "        for entry in range(len(df_small)):\n",
    "                x_coor_orig = int(df_small.iloc[entry, 1])\n",
    "                y_coor_orig = int(df_small.iloc[entry,2])\n",
    "\n",
    "                # rescale the coordinates\n",
    "                x_coor =  int(x_coor_orig / x_scale )\n",
    "                y_coor =  int(y_coor_orig / y_scale )\n",
    "\n",
    "                black_img = cv2.circle(black_img,(x_coor,y_coor),radius=3,color=1,thickness=cv2.FILLED)\n",
    "        # store the frame in the list: framesAnnot\n",
    "        plt.imshow(black_img, cmap='gray')\n",
    "\n"
   ]
  },
  {
   "cell_type": "code",
   "execution_count": 30,
   "id": "8c4eccb3",
   "metadata": {},
   "outputs": [
    {
     "data": {
      "text/html": [
       "<div>\n",
       "<style scoped>\n",
       "    .dataframe tbody tr th:only-of-type {\n",
       "        vertical-align: middle;\n",
       "    }\n",
       "\n",
       "    .dataframe tbody tr th {\n",
       "        vertical-align: top;\n",
       "    }\n",
       "\n",
       "    .dataframe thead th {\n",
       "        text-align: right;\n",
       "    }\n",
       "</style>\n",
       "<table border=\"1\" class=\"dataframe\">\n",
       "  <thead>\n",
       "    <tr style=\"text-align: right;\">\n",
       "      <th></th>\n",
       "      <th>0</th>\n",
       "      <th>1</th>\n",
       "      <th>2</th>\n",
       "      <th>3</th>\n",
       "      <th>4</th>\n",
       "      <th>5</th>\n",
       "    </tr>\n",
       "  </thead>\n",
       "  <tbody>\n",
       "    <tr>\n",
       "      <th>4534</th>\n",
       "      <td>Chicken</td>\n",
       "      <td>1757</td>\n",
       "      <td>1502</td>\n",
       "      <td>Cam0_Train5_026081.jpg</td>\n",
       "      <td>2592</td>\n",
       "      <td>1944</td>\n",
       "    </tr>\n",
       "    <tr>\n",
       "      <th>4535</th>\n",
       "      <td>Chicken</td>\n",
       "      <td>1690</td>\n",
       "      <td>1429</td>\n",
       "      <td>Cam0_Train5_026081.jpg</td>\n",
       "      <td>2592</td>\n",
       "      <td>1944</td>\n",
       "    </tr>\n",
       "    <tr>\n",
       "      <th>4536</th>\n",
       "      <td>Chicken</td>\n",
       "      <td>1503</td>\n",
       "      <td>1322</td>\n",
       "      <td>Cam0_Train5_026081.jpg</td>\n",
       "      <td>2592</td>\n",
       "      <td>1944</td>\n",
       "    </tr>\n",
       "    <tr>\n",
       "      <th>4537</th>\n",
       "      <td>Chicken</td>\n",
       "      <td>1107</td>\n",
       "      <td>1315</td>\n",
       "      <td>Cam0_Train5_026081.jpg</td>\n",
       "      <td>2592</td>\n",
       "      <td>1944</td>\n",
       "    </tr>\n",
       "    <tr>\n",
       "      <th>4538</th>\n",
       "      <td>Chicken</td>\n",
       "      <td>1491</td>\n",
       "      <td>1717</td>\n",
       "      <td>Cam0_Train5_026081.jpg</td>\n",
       "      <td>2592</td>\n",
       "      <td>1944</td>\n",
       "    </tr>\n",
       "    <tr>\n",
       "      <th>...</th>\n",
       "      <td>...</td>\n",
       "      <td>...</td>\n",
       "      <td>...</td>\n",
       "      <td>...</td>\n",
       "      <td>...</td>\n",
       "      <td>...</td>\n",
       "    </tr>\n",
       "    <tr>\n",
       "      <th>4626</th>\n",
       "      <td>Chicken</td>\n",
       "      <td>361</td>\n",
       "      <td>1560</td>\n",
       "      <td>Cam0_Train5_026081.jpg</td>\n",
       "      <td>2592</td>\n",
       "      <td>1944</td>\n",
       "    </tr>\n",
       "    <tr>\n",
       "      <th>4627</th>\n",
       "      <td>Chicken</td>\n",
       "      <td>269</td>\n",
       "      <td>1585</td>\n",
       "      <td>Cam0_Train5_026081.jpg</td>\n",
       "      <td>2592</td>\n",
       "      <td>1944</td>\n",
       "    </tr>\n",
       "    <tr>\n",
       "      <th>4628</th>\n",
       "      <td>Chicken</td>\n",
       "      <td>195</td>\n",
       "      <td>1585</td>\n",
       "      <td>Cam0_Train5_026081.jpg</td>\n",
       "      <td>2592</td>\n",
       "      <td>1944</td>\n",
       "    </tr>\n",
       "    <tr>\n",
       "      <th>4629</th>\n",
       "      <td>Chicken</td>\n",
       "      <td>351</td>\n",
       "      <td>1685</td>\n",
       "      <td>Cam0_Train5_026081.jpg</td>\n",
       "      <td>2592</td>\n",
       "      <td>1944</td>\n",
       "    </tr>\n",
       "    <tr>\n",
       "      <th>4630</th>\n",
       "      <td>Chicken</td>\n",
       "      <td>280</td>\n",
       "      <td>1653</td>\n",
       "      <td>Cam0_Train5_026081.jpg</td>\n",
       "      <td>2592</td>\n",
       "      <td>1944</td>\n",
       "    </tr>\n",
       "  </tbody>\n",
       "</table>\n",
       "<p>97 rows × 6 columns</p>\n",
       "</div>"
      ],
      "text/plain": [
       "            0     1     2                       3     4     5\n",
       "4534  Chicken  1757  1502  Cam0_Train5_026081.jpg  2592  1944\n",
       "4535  Chicken  1690  1429  Cam0_Train5_026081.jpg  2592  1944\n",
       "4536  Chicken  1503  1322  Cam0_Train5_026081.jpg  2592  1944\n",
       "4537  Chicken  1107  1315  Cam0_Train5_026081.jpg  2592  1944\n",
       "4538  Chicken  1491  1717  Cam0_Train5_026081.jpg  2592  1944\n",
       "...       ...   ...   ...                     ...   ...   ...\n",
       "4626  Chicken   361  1560  Cam0_Train5_026081.jpg  2592  1944\n",
       "4627  Chicken   269  1585  Cam0_Train5_026081.jpg  2592  1944\n",
       "4628  Chicken   195  1585  Cam0_Train5_026081.jpg  2592  1944\n",
       "4629  Chicken   351  1685  Cam0_Train5_026081.jpg  2592  1944\n",
       "4630  Chicken   280  1653  Cam0_Train5_026081.jpg  2592  1944\n",
       "\n",
       "[97 rows x 6 columns]"
      ]
     },
     "execution_count": 30,
     "metadata": {},
     "output_type": "execute_result"
    }
   ],
   "source": [
    "df_small"
   ]
  },
  {
   "cell_type": "code",
   "execution_count": 37,
   "id": "a056a52f",
   "metadata": {},
   "outputs": [
    {
     "data": {
      "text/plain": [
       "(400, 640)"
      ]
     },
     "execution_count": 37,
     "metadata": {},
     "output_type": "execute_result"
    }
   ],
   "source": [
    "framesAnnot[49].shape"
   ]
  },
  {
   "cell_type": "code",
   "execution_count": null,
   "id": "c44b956c",
   "metadata": {},
   "outputs": [],
   "source": []
  }
 ],
 "metadata": {
  "kernelspec": {
   "display_name": "Python 3 (ipykernel)",
   "language": "python",
   "name": "python3"
  },
  "language_info": {
   "codemirror_mode": {
    "name": "ipython",
    "version": 3
   },
   "file_extension": ".py",
   "mimetype": "text/x-python",
   "name": "python",
   "nbconvert_exporter": "python",
   "pygments_lexer": "ipython3",
   "version": "3.8.12"
  },
  "latex_envs": {
   "LaTeX_envs_menu_present": true,
   "autoclose": true,
   "autocomplete": true,
   "bibliofile": "biblio.bib",
   "cite_by": "apalike",
   "current_citInitial": 1,
   "eqLabelWithNumbers": true,
   "eqNumInitial": 1,
   "hotkeys": {
    "equation": "Ctrl-E",
    "itemize": "Ctrl-I"
   },
   "labels_anchors": false,
   "latex_user_defs": false,
   "report_style_numbering": false,
   "user_envs_cfg": false
  },
  "toc": {
   "base_numbering": 1,
   "nav_menu": {},
   "number_sections": true,
   "sideBar": true,
   "skip_h1_title": false,
   "title_cell": "Table of Contents",
   "title_sidebar": "Contents",
   "toc_cell": false,
   "toc_position": {},
   "toc_section_display": true,
   "toc_window_display": false
  },
  "varInspector": {
   "cols": {
    "lenName": 16,
    "lenType": 16,
    "lenVar": 40
   },
   "kernels_config": {
    "python": {
     "delete_cmd_postfix": "",
     "delete_cmd_prefix": "del ",
     "library": "var_list.py",
     "varRefreshCmd": "print(var_dic_list())"
    },
    "r": {
     "delete_cmd_postfix": ") ",
     "delete_cmd_prefix": "rm(",
     "library": "var_list.r",
     "varRefreshCmd": "cat(var_dic_list()) "
    }
   },
   "types_to_exclude": [
    "module",
    "function",
    "builtin_function_or_method",
    "instance",
    "_Feature"
   ],
   "window_display": false
  }
 },
 "nbformat": 4,
 "nbformat_minor": 5
}
